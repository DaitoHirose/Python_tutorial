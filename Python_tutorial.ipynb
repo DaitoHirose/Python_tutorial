{
  "nbformat": 4,
  "nbformat_minor": 0,
  "metadata": {
    "colab": {
      "name": "Python_tutorial.ipynb",
      "provenance": [],
      "authorship_tag": "ABX9TyNCkXN99WiNz2dlFeN88iqe",
      "include_colab_link": true
    },
    "kernelspec": {
      "name": "python3",
      "display_name": "Python 3"
    },
    "language_info": {
      "name": "python"
    }
  },
  "cells": [
    {
      "cell_type": "markdown",
      "metadata": {
        "id": "view-in-github",
        "colab_type": "text"
      },
      "source": [
        "<a href=\"https://colab.research.google.com/github/DaitoHirose/Python_tutorial/blob/main/Python_tutorial.ipynb\" target=\"_parent\"><img src=\"https://colab.research.google.com/assets/colab-badge.svg\" alt=\"Open In Colab\"/></a>"
      ]
    },
    {
      "cell_type": "code",
      "metadata": {
        "colab": {
          "base_uri": "https://localhost:8080/"
        },
        "id": "CkKDOPO2eOc-",
        "outputId": "74e74415-c134-4a7f-a0c4-208a1cb0c504"
      },
      "source": [
        "#4章\n",
        "\n",
        "a = ['a','b','c','d','e']\n",
        "for i in range(len(a)):\n",
        "    print(i,a[i])"
      ],
      "execution_count": 1,
      "outputs": [
        {
          "output_type": "stream",
          "text": [
            "0 a\n",
            "1 b\n",
            "2 c\n",
            "3 d\n",
            "4 e\n"
          ],
          "name": "stdout"
        }
      ]
    },
    {
      "cell_type": "code",
      "metadata": {
        "colab": {
          "base_uri": "https://localhost:8080/"
        },
        "id": "Zhl2Dpkrerjd",
        "outputId": "09999421-b9a5-44a0-b863-15f1f076e2f2"
      },
      "source": [
        "for i,v in enumerate(a):\n",
        "    print(i,v)"
      ],
      "execution_count": 4,
      "outputs": [
        {
          "output_type": "stream",
          "text": [
            "0 a\n",
            "1 b\n",
            "2 c\n",
            "3 d\n",
            "4 e\n"
          ],
          "name": "stdout"
        }
      ]
    },
    {
      "cell_type": "code",
      "metadata": {
        "colab": {
          "base_uri": "https://localhost:8080/"
        },
        "id": "cmPmDNXZfG8D",
        "outputId": "bfb6fad7-e306-4194-eee2-3c37b5cb0698"
      },
      "source": [
        "for n in range(2,10):\n",
        "    for x in range(2,n): \n",
        "        if n % x == 0:\n",
        "            print(n, 'equals', x, '*', n//x)\n",
        "            break\n",
        "    else:\n",
        "        print(n, 'is prime number')"
      ],
      "execution_count": 6,
      "outputs": [
        {
          "output_type": "stream",
          "text": [
            "2 is prime number\n",
            "3 is prime number\n",
            "4 equals 2 * 2\n",
            "5 is prime number\n",
            "6 equals 2 * 3\n",
            "7 is prime number\n",
            "8 equals 2 * 4\n",
            "9 equals 3 * 3\n"
          ],
          "name": "stdout"
        }
      ]
    },
    {
      "cell_type": "code",
      "metadata": {
        "colab": {
          "base_uri": "https://localhost:8080/"
        },
        "id": "w05-FnCmx8cO",
        "outputId": "ba7ab14d-a302-40aa-f46b-44735af7cd4e"
      },
      "source": [
        "for num in range(2,10):\n",
        "    if num % 2 == 0:\n",
        "        print('Found a even number', num)\n",
        "        continue\n",
        "    print('Found a number', num)"
      ],
      "execution_count": 7,
      "outputs": [
        {
          "output_type": "stream",
          "text": [
            "Found a even number 2\n",
            "Found a number 3\n",
            "Found a even number 4\n",
            "Found a number 5\n",
            "Found a even number 6\n",
            "Found a number 7\n",
            "Found a even number 8\n",
            "Found a number 9\n"
          ],
          "name": "stdout"
        }
      ]
    },
    {
      "cell_type": "code",
      "metadata": {
        "colab": {
          "base_uri": "https://localhost:8080/"
        },
        "id": "oqAO8-BpyZiA",
        "outputId": "3be26132-be25-4c59-ea87-be664a1368a8"
      },
      "source": [
        "def fib(n):\n",
        "\n",
        "    a,b = 0,1\n",
        "    while a < n:\n",
        "        print(a, end=' ')\n",
        "        a,b = b,a+b\n",
        "    print()\n",
        "\n",
        "fib(10000)"
      ],
      "execution_count": 11,
      "outputs": [
        {
          "output_type": "stream",
          "text": [
            "0 1 1 2 3 5 8 13 21 34 55 89 144 233 377 610 987 1597 2584 4181 6765 \n"
          ],
          "name": "stdout"
        }
      ]
    },
    {
      "cell_type": "code",
      "metadata": {
        "colab": {
          "base_uri": "https://localhost:8080/"
        },
        "id": "T-U_blG2zqCq",
        "outputId": "53bda170-0d87-4ba9-9147-279473cce313"
      },
      "source": [
        "def fib2(n):\n",
        "\n",
        "    result = []\n",
        "    a,b = 0,1\n",
        "    while a < n:\n",
        "        result.append(a)\n",
        "        a,b = b,a+b\n",
        "    return result\n",
        "\n",
        "fib2(10000)"
      ],
      "execution_count": 14,
      "outputs": [
        {
          "output_type": "execute_result",
          "data": {
            "text/plain": [
              "[0,\n",
              " 1,\n",
              " 1,\n",
              " 2,\n",
              " 3,\n",
              " 5,\n",
              " 8,\n",
              " 13,\n",
              " 21,\n",
              " 34,\n",
              " 55,\n",
              " 89,\n",
              " 144,\n",
              " 233,\n",
              " 377,\n",
              " 610,\n",
              " 987,\n",
              " 1597,\n",
              " 2584,\n",
              " 4181,\n",
              " 6765]"
            ]
          },
          "metadata": {
            "tags": []
          },
          "execution_count": 14
        }
      ]
    },
    {
      "cell_type": "code",
      "metadata": {
        "colab": {
          "base_uri": "https://localhost:8080/"
        },
        "id": "r9ambGeE1IJg",
        "outputId": "87823cc6-1f85-4cae-fa71-8392322345cb"
      },
      "source": [
        "def f(a, L=[]):\n",
        "    L.append(a)\n",
        "    return L\n",
        "\n",
        "def f2(a, L2=None):\n",
        "    if L2 is None:\n",
        "        L2 = []\n",
        "        L2.append(a)\n",
        "        return L2\n",
        "\n",
        "f2(5)"
      ],
      "execution_count": 29,
      "outputs": [
        {
          "output_type": "execute_result",
          "data": {
            "text/plain": [
              "[5]"
            ]
          },
          "metadata": {
            "tags": []
          },
          "execution_count": 29
        }
      ]
    },
    {
      "cell_type": "code",
      "metadata": {
        "colab": {
          "base_uri": "https://localhost:8080/"
        },
        "id": "R2xPop0iP-nN",
        "outputId": "1f4f08c8-1744-445c-9edb-90c09a575614"
      },
      "source": [
        "def parrot(voltage, state='a stiff', action='voom', type='Norwegian Blue'):\n",
        "    print('-- This parrot would not', action, end=' ')\n",
        "    print('if you put', voltage, 'volts through it.')\n",
        "    print('-- Lovely plumage, the', type)\n",
        "    print('-- It is', state, '!')\n",
        "\n",
        "parrot(1000)\n",
        "parrot(1000000, action = 'vooooom')\n",
        "parrot('a million', 'bereft of life', 'jump')"
      ],
      "execution_count": 34,
      "outputs": [
        {
          "output_type": "stream",
          "text": [
            "-- This parrot would not voom if you put 1000 volts through it.\n",
            "-- Lovely plumage, the Norwegian Blue\n",
            "-- It is a stiff !\n",
            "-- This parrot would not vooooom if you put 1000000 volts through it.\n",
            "-- Lovely plumage, the Norwegian Blue\n",
            "-- It is a stiff !\n",
            "-- This parrot would not jump if you put a million volts through it.\n",
            "-- Lovely plumage, the Norwegian Blue\n",
            "-- It is bereft of life !\n"
          ],
          "name": "stdout"
        }
      ]
    },
    {
      "cell_type": "code",
      "metadata": {
        "id": "_wD7mxe0P-wU"
      },
      "source": [
        "def cheeseshop(kind, *arguments, **keywords):\n",
        "    print('-- Do you have any', kind, '?')\n",
        "    print('-- I am sorry, we are all out of', kind)\n",
        "    for arg in arguments:\n",
        "        print(arg)\n",
        "    print('-' * 40)\n",
        "    keys = sorted(keywords.keys())\n",
        "    for kw in keys:\n",
        "        print(kw,':', keywords[kw])\n",
        "        "
      ],
      "execution_count": null,
      "outputs": []
    },
    {
      "cell_type": "code",
      "metadata": {
        "id": "NKZNvM2Cmi8Y"
      },
      "source": [
        ""
      ],
      "execution_count": null,
      "outputs": []
    },
    {
      "cell_type": "code",
      "metadata": {
        "id": "fqzzTRIwP-2H"
      },
      "source": [
        ""
      ],
      "execution_count": null,
      "outputs": []
    }
  ]
}